{
 "cells": [
  {
   "cell_type": "markdown",
   "metadata": {},
   "source": [
    "## Visualize prediction results\n",
    "Feeds randomly selected images into a trained model and visualizes the results.\n",
    "Follow this [guide](https://towardsdatascience.com/running-jupyter-notebook-in-google-cloud-platform-in-15-min-61e16da34d52) for setting up jupyter notebooks with gcloud compute."
   ]
  },
  {
   "cell_type": "markdown",
   "metadata": {
    "pycharm": {
     "name": "#%% md\n"
    }
   },
   "source": [
    "### Setup\n",
    "Steps to configure the prediction visualizer."
   ]
  },
  {
   "cell_type": "code",
   "execution_count": null,
   "metadata": {},
   "outputs": [],
   "source": [
    "%matplotlib inline\n",
    "\n",
    "# Create symlinks so can import them here\n",
    "!ln -s ../scripts/draw_grid.py draw_grid.py\n",
    "!ln -s ../src/imgcls/config config\n",
    "!ln -s ../src/imgcls/modeling modeling\n",
    "\n",
    "import os\n",
    "import json\n",
    "import random\n",
    "import numpy as np\n",
    "from matplotlib import pyplot as plt\n",
    "from draw_grid import draw_pred_vs_true\n",
    "from config import get_cfg\n",
    "import modeling\n",
    "from detectron2.engine import DefaultPredictor\n",
    "import cv2\n",
    "import torch"
   ]
  },
  {
   "cell_type": "markdown",
   "metadata": {},
   "source": [
    "#### Specify paths\n",
    "Specify the relative file paths for the data, config file, and model weights."
   ]
  },
  {
   "cell_type": "code",
   "execution_count": null,
   "metadata": {},
   "outputs": [],
   "source": [
    "# Specify paths\n",
    "data_json = '../data/full/frames_100/val.json'  # train.json, val.json or test.json\n",
    "config_file = '../output/X-101-grid-4-thres-0.15/config.yaml'\n",
    "model_weights = '../output/X-101-grid-4-thres-0.15/model_best.pth'"
   ]
  },
  {
   "cell_type": "markdown",
   "metadata": {},
   "source": [
    "#### Set parameters\n",
    "Set the grid size and the min/max image sizes to feed to the model."
   ]
  },
  {
   "cell_type": "code",
   "execution_count": null,
   "metadata": {},
   "outputs": [],
   "source": [
    "cfg = get_cfg()\n",
    "cfg.merge_from_file(config_file)\n",
    "cfg.MODEL.WEIGHTS = os.path.abspath(model_weights)\n",
    "cfg.INPUT.FORMAT = \"BGR\" # this is the case when using cv2.imread()\n",
    "\n",
    "# Specify grid size\n",
    "GRID_SIZE = 4\n",
    "\n",
    "# specify min/max image sizes\n",
    "cfg.INPUT.MIN_SIZE_TEST = 224\n",
    "cfg.INPUT.MAX_SIZE_TEST = 224\n",
    "\n",
    "# use default predictor, docs below\n",
    "# https://detectron2.readthedocs.io/modules/engine.html#detectron2.engine.defaults.DefaultPredictor\n",
    "predictor = DefaultPredictor(cfg)\n",
    "\n",
    "with open(data_json, 'r') as json_file:\n",
    "    dataset_dicts = json.load(json_file)"
   ]
  },
  {
   "cell_type": "markdown",
   "metadata": {},
   "source": [
    "#### Define method\n",
    "Main method for generating predictions for a random sample from dataset."
   ]
  },
  {
   "cell_type": "code",
   "execution_count": null,
   "metadata": {
    "scrolled": false
   },
   "outputs": [],
   "source": [
    "def visualize_preds():\n",
    "    \"\"\"Gets a random sample from 'data_json' feeds it into the model and compares predictions to truth labels\"\"\"\n",
    "    d = random.sample(dataset_dicts, 1)[0]\n",
    "    print(d[\"file_name\"])\n",
    "    img = cv2.imread(d[\"file_name\"])\n",
    "    plt.imshow(img[:, :, ::-1])  # convert image from OpenCV BGR format to Matplotlib RGB format\n",
    "    plt.show()\n",
    "    output = predictor(img)\n",
    "    predictions = output['pred'].cpu().round().numpy().astype(int)\n",
    "    truth_labels = np.array(d['label'])\n",
    "    print(\"labels: \" + str(truth_labels))\n",
    "    print(\"preds:  \" + str(predictions))\n",
    "    img = draw_pred_vs_true(img,\n",
    "                            predictions.reshape(GRID_SIZE, GRID_SIZE), \n",
    "                            truth_labels.reshape(GRID_SIZE, GRID_SIZE), GRID_SIZE)\n",
    "   \n",
    "    plt.imshow(img)\n",
    "    plt.show()"
   ]
  },
  {
   "cell_type": "markdown",
   "metadata": {},
   "source": [
    "#### Main\n",
    "This is the main code block which displays the predictions and truth labels. Run this block several times to get a\n",
    "qualitative sense of how well the model is doing"
   ]
  },
  {
   "cell_type": "code",
   "execution_count": null,
   "metadata": {},
   "outputs": [],
   "source": [
    "visualize_preds()"
   ]
  },
  {
   "cell_type": "markdown",
   "metadata": {},
   "source": [
    "#### Clean up symlinks\n",
    "Once done with notebook, run this code block to remove the symlinks."
   ]
  },
  {
   "cell_type": "code",
   "execution_count": null,
   "metadata": {},
   "outputs": [],
   "source": [
    "!rm draw_grid.py modeling config ../src/imgcls/config/config ../src/imgcls/modeling/modeling"
   ]
  }
 ],
 "metadata": {
  "kernelspec": {
   "display_name": "Python 3",
   "language": "python",
   "name": "python3"
  },
  "language_info": {
   "codemirror_mode": {
    "name": "ipython",
    "version": 3
   },
   "file_extension": ".py",
   "mimetype": "text/x-python",
   "name": "python",
   "nbconvert_exporter": "python",
   "pygments_lexer": "ipython3",
   "version": "3.6.12"
  }
 },
 "nbformat": 4,
 "nbformat_minor": 4
}
