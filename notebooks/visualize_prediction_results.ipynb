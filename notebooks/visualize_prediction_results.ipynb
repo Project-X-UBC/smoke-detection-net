{
 "cells": [
  {
   "cell_type": "markdown",
   "metadata": {},
   "source": [
    "## Visualize prediction results\n",
    "Feeds randomly selected images into a trained model and visualizes the results"
   ]
  },
  {
   "cell_type": "code",
   "execution_count": null,
   "metadata": {},
   "outputs": [],
   "source": [
    "%matplotlib inline\n",
    "\n",
    "# Create symlinks so can import them here\n",
    "!ln -s ../scripts/draw_grid.py draw_grid.py\n",
    "!ln -s ../src/imgcls/config config\n",
    "!ln -s ../src/imgcls/modeling modeling"
   ]
  },
  {
   "cell_type": "code",
   "execution_count": null,
   "metadata": {},
   "outputs": [],
   "source": [
    "import os\n",
    "import json\n",
    "import random\n",
    "import numpy as np\n",
    "from matplotlib import pyplot as plt\n",
    "from draw_grid import draw_pred_vs_true\n",
    "from config import get_cfg\n",
    "import modeling\n",
    "from detectron2.engine import DefaultPredictor\n",
    "import cv2\n",
    "import torch"
   ]
  },
  {
   "cell_type": "code",
   "execution_count": null,
   "metadata": {},
   "outputs": [],
   "source": [
    "# Specify paths\n",
    "data_json = '../data/synthetic/val.json'\n",
    "config_file = '../src/config.yaml'\n",
    "model_weights = '../output/second_good_run/model_final.pth'"
   ]
  },
  {
   "cell_type": "code",
   "execution_count": null,
   "metadata": {},
   "outputs": [],
   "source": [
    "cfg = get_cfg()\n",
    "cfg.merge_from_file(config_file)\n",
    "cfg.MODEL.WEIGHTS = os.path.abspath(model_weights)\n",
    "cfg.INPUT.MIN_SIZE_TEST = 800 # apply resizing?\n",
    "cfg.INPUT.MAX_SIZE_TEST = 800 \n",
    "\n",
    "predictor = DefaultPredictor(cfg)\n",
    "# docs here https://detectron2.readthedocs.io/modules/engine.html#detectron2.engine.defaults.DefaultPredictor\n",
    "\n",
    "with open(data_json, 'r') as json_file:\n",
    "    dataset_dicts = json.load(json_file)"
   ]
  },
  {
   "cell_type": "code",
   "execution_count": null,
   "metadata": {
    "scrolled": true
   },
   "outputs": [],
   "source": [
    "# specify how many random images to output\n",
    "num_preds = 10\n",
    "for d in random.sample(dataset_dicts, num_preds):\n",
    "    print(d[\"file_name\"])\n",
    "    img = cv2.imread(d[\"file_name\"])\n",
    "    output = predictor(img)  # can test with output = torch.rand(16)\n",
    "    predictions = output['pred'].to(\"cpu\").round().numpy().astype(int)\n",
    "    truth_labels = np.array(d['label'])\n",
    "    img = draw_pred_vs_true(img,\n",
    "                            predictions, \n",
    "                            truth_labels)\n",
    "   \n",
    "    plt.imshow(img)\n",
    "    plt.show()"
   ]
  },
  {
   "cell_type": "code",
   "execution_count": null,
   "metadata": {},
   "outputs": [],
   "source": [
    "# clean up symlinks\n",
    "!rm draw_grid.py modeling config ../src/imgcls/config/config ../src/imgcls/modeling/modeling"
   ]
  }
 ],
 "metadata": {
  "kernelspec": {
   "display_name": "Python 3",
   "language": "python",
   "name": "python3"
  },
  "language_info": {
   "codemirror_mode": {
    "name": "ipython",
    "version": 3
   },
   "file_extension": ".py",
   "mimetype": "text/x-python",
   "name": "python",
   "nbconvert_exporter": "python",
   "pygments_lexer": "ipython3",
   "version": "3.8.5"
  }
 },
 "nbformat": 4,
 "nbformat_minor": 4
}
