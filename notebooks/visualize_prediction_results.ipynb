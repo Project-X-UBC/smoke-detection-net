{
 "cells": [
  {
   "cell_type": "markdown",
   "metadata": {},
   "source": [
    "## Visualize prediction results\n",
    "Feeds randomly selected images into a trained model and visualizes the results.\n",
    "Follow this [guide](https://towardsdatascience.com/running-jupyter-notebook-in-google-cloud-platform-in-15-min-61e16da34d52) for setting up jupyter notebooks with gcloud compute."
   ]
  },
  {
   "cell_type": "code",
   "execution_count": null,
   "metadata": {},
   "outputs": [],
   "source": [
    "%matplotlib inline\n",
    "\n",
    "# Create symlinks so can import them here\n",
    "!ln -s ../scripts/draw_grid.py draw_grid.py\n",
    "!ln -s ../src/imgcls/config config\n",
    "!ln -s ../src/imgcls/modeling modeling"
   ]
  },
  {
   "cell_type": "code",
   "execution_count": null,
   "metadata": {},
   "outputs": [],
   "source": [
    "import os\n",
    "import json\n",
    "import random\n",
    "import numpy as np\n",
    "from matplotlib import pyplot as plt\n",
    "from draw_grid import draw_pred_vs_true\n",
    "from config import get_cfg\n",
    "import modeling\n",
    "from detectron2.engine import DefaultPredictor\n",
    "import cv2\n",
    "import torch"
   ]
  },
  {
   "cell_type": "code",
   "execution_count": null,
   "metadata": {},
   "outputs": [],
   "source": [
    "# Specify paths\n",
    "data_json = '../data/synthetic/val.json'  # train.json, val.json or test.json\n",
    "config_file = '../output/second_good_run/config.yaml'\n",
    "model_weights = '../output/second_good_run/model_final.pth'"
   ]
  },
  {
   "cell_type": "code",
   "execution_count": null,
   "metadata": {},
   "outputs": [],
   "source": [
    "GRID_SIZE = 4\n",
    "cfg = get_cfg()\n",
    "cfg.merge_from_file(config_file)\n",
    "cfg.MODEL.WEIGHTS = os.path.abspath(model_weights)\n",
    "cfg.INPUT.MIN_SIZE_TEST = 800 # apply resizing?\n",
    "cfg.INPUT.MAX_SIZE_TEST = 800\n",
    "cfg.INPUT.FORMAT = \"BGR\" # this is the case when using cv2.imread()\n",
    "\n",
    "predictor = DefaultPredictor(cfg)\n",
    "# docs here https://detectron2.readthedocs.io/modules/engine.html#detectron2.engine.defaults.DefaultPredictor\n",
    "\n",
    "with open(data_json, 'r') as json_file:\n",
    "    dataset_dicts = json.load(json_file)"
   ]
  },
  {
   "cell_type": "code",
   "execution_count": null,
   "metadata": {
    "scrolled": false
   },
   "outputs": [],
   "source": [
    "# TODO: overlay image\n",
    "def visualize_preds():\n",
    "    \"\"\"Gets a random sample from 'data_json' feeds it into the model and compares predictions to truth labels\"\"\"\n",
    "    d = random.sample(dataset_dicts, 1)[0]\n",
    "    print(d[\"file_name\"])\n",
    "    img = cv2.imread(d[\"file_name\"])\n",
    "    plt.imshow(img)\n",
    "    plt.show()\n",
    "    output = predictor(img)\n",
    "    predictions = output['pred'].cpu().round().numpy().astype(int)\n",
    "    truth_labels = np.array(d['label'])\n",
    "    print(\"labels: \" + str(truth_labels))\n",
    "    print(\"preds: \" + str(predictions))\n",
    "    img = draw_pred_vs_true(img,\n",
    "                            predictions.reshape(GRID_SIZE, GRID_SIZE), \n",
    "                            truth_labels.reshape(GRID_SIZE, GRID_SIZE))\n",
    "   \n",
    "    plt.imshow(img)\n",
    "    plt.show()"
   ]
  },
  {
   "cell_type": "code",
   "execution_count": null,
   "metadata": {},
   "outputs": [],
   "source": [
    "# run this block several times to get a qualitative sense of how well the model is doing\n",
    "visualize_preds()"
   ]
  },
  {
   "cell_type": "code",
   "execution_count": null,
   "metadata": {},
   "outputs": [],
   "source": [
    "# clean up symlinks\n",
    "!rm draw_grid.py modeling config ../src/imgcls/config/config ../src/imgcls/modeling/modeling"
   ]
  }
 ],
 "metadata": {
  "kernelspec": {
   "display_name": "Python 3",
   "language": "python",
   "name": "python3"
  },
  "language_info": {
   "codemirror_mode": {
    "name": "ipython",
    "version": 3
   },
   "file_extension": ".py",
   "mimetype": "text/x-python",
   "name": "python",
   "nbconvert_exporter": "python",
   "pygments_lexer": "ipython3",
   "version": "3.6.12"
  }
 },
 "nbformat": 4,
 "nbformat_minor": 4
}
